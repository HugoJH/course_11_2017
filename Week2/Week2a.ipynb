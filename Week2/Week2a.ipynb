{
 "cells": [
  {
   "cell_type": "markdown",
   "metadata": {
    "_cell_guid": "d0fff099-32b4-4d5f-94f2-dc957e8d7b58",
    "_uuid": "0a7336426503aa654b923d813483e106306716f9"
   },
   "source": [
    "# Week 1 - The What Why and when of Machine Learning\n",
    "Main idea is to follow that notebook in order to have an initial aproach -  this doesn't means that you only have to answer to the questions or implement code. Feel free to add all the interesting content that you find and take conclusions from the data. Please just use this as a template"
   ]
  },
  {
   "cell_type": "markdown",
   "metadata": {},
   "source": [
    "# 0. Library import and list input files"
   ]
  },
  {
   "cell_type": "code",
   "execution_count": 1,
   "metadata": {
    "_cell_guid": "a4c3c51c-f465-4cfc-913a-ee1225e57724",
    "_uuid": "15592da27c5f06e6ab4fb0a293a851cc8489453b"
   },
   "outputs": [],
   "source": [
    "import sys\n",
    "import numpy as np # linear algebra\n",
    "import pandas as pd # data processing, CSV file I/O (e.g. pd.read_csv)\n",
    "import random\n",
    "import matplotlib.pyplot as plt\n",
    "import seaborn as sns\n",
    "import sys\n",
    "\n",
    "%matplotlib inline\n",
    "#Ignore Warnings - save some confusion\n",
    "import warnings\n",
    "warnings.filterwarnings('ignore')\n",
    "\n",
    "#Pandas more columns\n",
    "pd.options.display.max_columns = None\n",
    "pd.set_option('display.max_columns', None)\n",
    "\n",
    "# Add input as import path\n",
    "sys.path.insert(0,'../input')\n",
    "\n",
    "# Plot style\n",
    "plt.style.use('fivethirtyeight')\n",
    "\n",
    "# Import the data from the dataset\n",
    "train_data = pd.read_csv('../input/train.csv', index_col='id')\n",
    "test_data = pd.read_csv('../input/test.csv', index_col='id')\n"
   ]
  },
  {
   "cell_type": "markdown",
   "metadata": {
    "_cell_guid": "d96be262-1ded-4cd3-9193-03d7dc0b86bb",
    "_uuid": "823783aab011b613db23022d071be8684faa60e0"
   },
   "source": [
    "# 1. Feature engineering"
   ]
  },
  {
   "cell_type": "markdown",
   "metadata": {
    "_cell_guid": "b764727f-3455-4d7b-8eac-101b52644cf4",
    "_uuid": "028fec15cf0c5f625c122db5e726c9e6f1073905"
   },
   "source": [
    "### 1.1 Data engineering.\n",
    "Objectives:\n",
    "* Create three new features using the actual features.\n",
    "* Create plots like in the first session. (Categorical / Numerical)\n"
   ]
  },
  {
   "cell_type": "code",
   "execution_count": 2,
   "metadata": {},
   "outputs": [
    {
     "data": {
      "text/plain": [
       "id\n",
       "277     10\n",
       "562      7\n",
       "111      7\n",
       "930      8\n",
       "841      7\n",
       "585      8\n",
       "609      8\n",
       "540      7\n",
       "1075     8\n",
       "390      8\n",
       "921      8\n",
       "339      5\n",
       "155     10\n",
       "564      7\n",
       "694      8\n",
       "1028     7\n",
       "1184     8\n",
       "633      8\n",
       "907      7\n",
       "426      8\n",
       "1210     8\n",
       "257     10\n",
       "474      8\n",
       "439      8\n",
       "9        8\n",
       "948      8\n",
       "762      5\n",
       "802      8\n",
       "482      7\n",
       "893      8\n",
       "        ..\n",
       "408      8\n",
       "87       8\n",
       "810      8\n",
       "276      8\n",
       "751      8\n",
       "550     10\n",
       "231      0\n",
       "879      8\n",
       "896      8\n",
       "835      8\n",
       "752      8\n",
       "984      7\n",
       "163     10\n",
       "1063     8\n",
       "29       8\n",
       "200      8\n",
       "285      8\n",
       "1267    10\n",
       "783      8\n",
       "1074     8\n",
       "1087     8\n",
       "982      8\n",
       "677      8\n",
       "977      8\n",
       "35       7\n",
       "626      7\n",
       "640      5\n",
       "845     10\n",
       "1291     8\n",
       "639      5\n",
       "Name: titles, Length: 654, dtype: int64"
      ]
     },
     "execution_count": 2,
     "metadata": {},
     "output_type": "execute_result"
    }
   ],
   "source": [
    "# Todo 1 : Create a new feature that describes if people travels alone or not.\n",
    "#dataset['TravelAlone'] = ...\n",
    "train_data['TravelAlone'] = (train_data[\"sibsp\"] == 0) & (train_data[\"parch\"] == 0)\n",
    "# Todo 2 : Create a new feature that represents the FamilySize - for each passenger a new column with a number 1..n\n",
    "train_data['FamilySize'] = (train_data[\"sibsp\"]) + (train_data[\"parch\"])\n",
    "# Todo 3 : Create a new feature based in the Title name for example Sr, Mrs, Rev.\n",
    "# Clue 1: As we can see different classes of title name exist. Decide how to group and decide \n",
    "train_data[\"titles\"] = train_data['name'].str.split(\",\",expand=True)[1].str.split(\".\",expand=True)[0]\n",
    "titles_dict={k:v for v,k in enumerate(set(train_data[\"titles\"]))}\n",
    "train_data[\"titles\"].replace(titles_dict)\n",
    "\n",
    "#dataset['RareName'] = ....\n",
    "\n",
    "# Optional : Plot the data in plots like in the previous training notebook (Categorical / Numerical)\n"
   ]
  },
  {
   "cell_type": "markdown",
   "metadata": {
    "_cell_guid": "b764727f-3455-4d7b-8eac-101b52644cf4",
    "_uuid": "028fec15cf0c5f625c122db5e726c9e6f1073905"
   },
   "source": [
    "### 1.2 Data correlation.\n",
    "Objectives:\n",
    "* Create a heatmap that show the data correlation\n",
    "* Understand the data correlation\n",
    "\n",
    "Questions:\n",
    "* Q1: Which are the top three pairs of data with more correlation? (ToDo 1..2 and 3..4 ) \n",
    "* Q2: Is the sex of the passengers related with survival?\n",
    "* Q3: If two features have a lot of correlation we want to preserve both or only use one?\n",
    "* Q4: Are the previous new created features related with the survivance in the accident? Choose the one that you think that is the best.\n"
   ]
  },
  {
   "cell_type": "code",
   "execution_count": 4,
   "metadata": {
    "_cell_guid": "ac3cbd95-2242-4251-90ca-dd65c34e17b3",
    "_uuid": "6745659346d0b3d3a9b6424ce123307f20be533f"
   },
   "outputs": [
    {
     "name": "stdout",
     "output_type": "stream",
     "text": [
      "          pclass       age\n",
      "pclass  1.000000 -0.417239\n",
      "age    -0.417239  1.000000\n",
      "Data Correlation for the features pclass/age\n",
      "          survived\n",
      "survived       1.0\n",
      "Q1: This is my response for the first question!\n"
     ]
    },
    {
     "data": {
      "image/png": "[encoded data removed]",
      "text/plain": [
       "<matplotlib.figure.Figure at 0x7ffbb1d2db00>"
      ]
     },
     "metadata": {},
     "output_type": "display_data"
    }
   ],
   "source": [
    "print (train_data[[\"pclass\",\"age\"]].corr())\n",
    "\n",
    "# PreTodo. Copying train_data into another variable. Some examples\n",
    "sample_data = train_data.copy()\n",
    "sample_data.drop(columns=[\"body\"], inplace=True) #Dropping target variable\n",
    "sex_types = {\"male\":1, \"female\":0}\n",
    "sample_data[\"sex\"] = sample_data[\"sex\"].apply(sex_types.get) # Converting into numerical label\n",
    "#Work with your train data , the same way we work with sample_data\n",
    "\n",
    "\n",
    "#fig, axs = plt.subplots(1,2)\n",
    "# ToDO 1: Compute the correlation for all the features ( Remember that the survived column is our label )\n",
    "print(\"Data Correlation for the features pclass/age\")\n",
    "data_correlation = train_data.corr()\n",
    "# ToDo 2: Plot the data in a fancy plot like the sns.heatmap\n",
    "sns.heatmap(data_correlation)\n",
    "# ToDo 3: Compute the correlation between the sex feature and survived label \n",
    "#train_data[\"sex\"].replace({\"female\":0,\"male\":1}, inplace=True)\n",
    "sex_survived_correlation = train_data[[\"sex\",\"survived\"]].corr()\n",
    "print(sex_survived_correlation)\n",
    "#sns.heatmap(sex_survived_correlation,ax=axs[1])\n",
    "\n",
    "\n",
    "#sex_survived_correlation\n",
    "\n",
    "# ToDo 4: Plot the data in a fancy plot like the sns.heatmap\n",
    "#sns.heatmap(....)\n",
    "# Todo 3: Questions\n",
    "print(\"Q1: This is my response for the first question!\")"
   ]
  },
  {
   "cell_type": "markdown",
   "metadata": {
    "_cell_guid": "b764727f-3455-4d7b-8eac-101b52644cf4",
    "_uuid": "028fec15cf0c5f625c122db5e726c9e6f1073905"
   },
   "source": [
    "# 2. Data visualization.\n",
    "Objectives:\n",
    "* Use PCA to reduce the dimensions of our data\n",
    "* Analyze the separability of our data\n",
    "\n",
    "Questions:\n",
    "* Q1: Is the data separable?\n",
    "* Q2: You think that we need to reduce the dimensionality of our data?\n",
    "* Q3: Find whitch infromation returns the explained_variance_ratio_ method\n"
   ]
  },
  {
   "cell_type": "code",
   "execution_count": 12,
   "metadata": {},
   "outputs": [
    {
     "name": "stdout",
     "output_type": "stream",
     "text": [
      "Before scale:\n",
      "    age  pclass  sibsp  embarked  sex\n",
      "0   0.0       1      1         2    1\n",
      "1  30.0       2      0         0    1\n",
      "2  24.0       1      3         3    1\n",
      "\n",
      "\n",
      "After scale:\n",
      "        age  pclass  sibsp  embarked  sex\n",
      "0  0.000000     0.0  0.125  0.666667  1.0\n",
      "1  0.405405     0.5  0.000  0.000000  1.0\n",
      "2  0.324324     0.0  0.375  1.000000  1.0\n",
      "\n",
      "\n"
     ]
    },
    {
     "data": {
      "image/png": "[encoded data removed]",
      "text/plain": [
       "<matplotlib.figure.Figure at 0x7ffbf21acb38>"
      ]
     },
     "metadata": {},
     "output_type": "display_data"
    },
    {
     "name": "stdout",
     "output_type": "stream",
     "text": [
      "[0.42702773 0.31437889 0.15612069]\n"
     ]
    }
   ],
   "source": [
    "from sklearn.preprocessing import MinMaxScaler\n",
    "from sklearn.decomposition import PCA as sklearnPCA\n",
    "# \n",
    "\"\"\"\n",
    "First of all we need to scale our data we have different features measured in different \"units\" what we need is to normali\n",
    "this features to be in the same range, the easiest way to do this is with the MinMaxScaler\n",
    "\"\"\"\n",
    "\n",
    "# 1. Select a subset of data\n",
    "#train_data_subset = train_data[[\"age\", \"sex\", \"pclass\", \"embarked\", \"TravelAlone\"]]\n",
    "train_data_subset = train_data[[\"age\", \"pclass\", \"sibsp\", \"embarked\", \"sex\"]]\n",
    "\n",
    "# Todo 1: Convert the categorical labels to numerical for example Sex can be converted to a boolean\n",
    "sex_dict={k:v for v,k in enumerate(set(train_data[\"sex\"]))}\n",
    "embarked_dict={k:v for v,k in enumerate(set(train_data[\"embarked\"]))}\n",
    "train_data_subset[\"sex\"].replace(sex_dict,inplace=True) \n",
    "train_data_subset[\"embarked\"].replace(embarked_dict, inplace=True)\n",
    "\n",
    "# 2. Remove NA with 0 probably exist a better way :)\n",
    "train_data_subset.fillna(0, inplace=True)\n",
    "\n",
    "# 3. Scale the data\n",
    "scaler = MinMaxScaler()\n",
    "train_data_scaled = pd.DataFrame(scaler.fit_transform(train_data_subset), columns=train_data_subset.columns)\n",
    "\n",
    "#After\n",
    "print(\"Before scale:\")\n",
    "print(train_data_subset[0:3])\n",
    "print(\"\\n\")\n",
    "#Before\n",
    "print(\"After scale:\")\n",
    "print(train_data_scaled[0:3])\n",
    "print(\"\\n\")\n",
    "\n",
    "# 4. Compute PCA\n",
    "pca = sklearnPCA(n_components=3) #2-dimensional PCA\n",
    "transformed = pd.DataFrame(pca.fit_transform(train_data_scaled))\n",
    "train_data.index = range(len(train_data.index))\n",
    "\n",
    "# 5. Plot the data with the reduced dimentions\n",
    "plt.scatter(transformed[train_data[\"survived\"]==0][0], transformed[train_data[\"survived\"]==0][1], label='Died', c='red')\n",
    "plt.scatter(transformed[train_data[\"survived\"]==1][1], transformed[train_data[\"survived\"]==1][1], label='Survived', c='blue')\n",
    "plt.legend()\n",
    "plt.show()\n",
    "\n",
    "# 6. Interesting methods\n",
    "print(pca.explained_variance_ratio_ )\n"
   ]
  }
 ],
 "metadata": {
  "kernelspec": {
   "display_name": "Python 3",
   "language": "python",
   "name": "python3"
  },
  "language_info": {
   "codemirror_mode": {
    "name": "ipython",
    "version": 3
   },
   "file_extension": ".py",
   "mimetype": "text/x-python",
   "name": "python",
   "nbconvert_exporter": "python",
   "pygments_lexer": "ipython3",
   "version": "3.6.4"
  }
 },
 "nbformat": 4,
 "nbformat_minor": 1
}
